{
 "metadata": {
  "name": "",
  "signature": "sha256:382e75cd411466a369c703bf0b545db1afd35adbd39ae80eaf49652d285403b4"
 },
 "nbformat": 3,
 "nbformat_minor": 0,
 "worksheets": [
  {
   "cells": [
    {
     "cell_type": "code",
     "collapsed": false,
     "input": [],
     "language": "python",
     "metadata": {},
     "outputs": []
    }
   ],
   "metadata": {}
  }
 ]
}